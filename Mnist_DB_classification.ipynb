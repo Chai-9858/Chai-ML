{
  "nbformat": 4,
  "nbformat_minor": 0,
  "metadata": {
    "colab": {
      "name": "Mnist_DB_classification.ipynb",
      "provenance": []
    },
    "kernelspec": {
      "name": "python3",
      "display_name": "Python 3"
    },
    "language_info": {
      "name": "python"
    }
  },
  "cells": [
    {
      "cell_type": "markdown",
      "source": [
        "<h3><font color=pink>Importing the libraries:</font>"
      ],
      "metadata": {
        "id": "HdeigpoEbN38"
      }
    },
    {
      "cell_type": "code",
      "source": [
        "import numpy as np \n",
        "import matplotlib.pyplot as plt \n",
        "import tensorflow as tf \n",
        "from tensorflow.keras.datasets import mnist "
      ],
      "metadata": {
        "id": "VJYLzrOSbcB4"
      },
      "execution_count": 1,
      "outputs": []
    },
    {
      "cell_type": "markdown",
      "source": [
        "<h3><font color=pink>Loading the Mnist data set:</font>"
      ],
      "metadata": {
        "id": "VDvt9y4Qbmbk"
      }
    },
    {
      "cell_type": "code",
      "source": [
        "(x_train,y_train), (x_test,y_test)= mnist.load_data()\n",
        "print(np.shape(x_train),np.shape(y_train))\n",
        "print(np.shape(x_test),np.shape(y_test))"
      ],
      "metadata": {
        "colab": {
          "base_uri": "https://localhost:8080/"
        },
        "id": "48XChFO0bmC8",
        "outputId": "bc498627-951d-4b80-e7d1-534327872b4e"
      },
      "execution_count": 2,
      "outputs": [
        {
          "output_type": "stream",
          "name": "stdout",
          "text": [
            "Downloading data from https://storage.googleapis.com/tensorflow/tf-keras-datasets/mnist.npz\n",
            "11493376/11490434 [==============================] - 0s 0us/step\n",
            "11501568/11490434 [==============================] - 0s 0us/step\n",
            "(60000, 28, 28) (60000,)\n",
            "(10000, 28, 28) (10000,)\n"
          ]
        }
      ]
    },
    {
      "cell_type": "code",
      "source": [
        "# images vizualizzation\n",
        "fig,axs=plt.subplots(nrows=3,ncols=3)\n",
        "axs= axs.flatten()\n",
        "for ax, j in zip(axs,range(9)):\n",
        "  ax.axis(\"off\")\n",
        "  ax.imshow(x_train[j],cmap=\"gray\") \n",
        "  ax.set_title(y_train[j])\n",
        "plt.show()"
      ],
      "metadata": {
        "colab": {
          "base_uri": "https://localhost:8080/",
          "height": 264
        },
        "id": "qZ1rUwY4bgm5",
        "outputId": "64d7a94d-33be-458d-e849-eb5a503d534b"
      },
      "execution_count": 3,
      "outputs": [
        {
          "output_type": "display_data",
          "data": {
            "text/plain": [
              "<Figure size 432x288 with 9 Axes>"
            ],
            "image/png": "[encoded data removed]"
          },
          "metadata": {
            "needs_background": "light"
          }
        }
      ]
    },
    {
      "cell_type": "markdown",
      "source": [
        "<h3><font color=pink>Data preparation:</font>"
      ],
      "metadata": {
        "id": "LAkEXOOldBXF"
      }
    },
    {
      "cell_type": "code",
      "source": [
        "#We divide by 255 to normalize our dataset\n",
        "x_train_v=x_train.reshape(-1,28*28)/255 \n",
        "x_test_v=x_test.reshape(-1,28*28)/255\n",
        "print(np.shape(x_train_v))\n",
        "print(np.shape(x_test_v))"
      ],
      "metadata": {
        "colab": {
          "base_uri": "https://localhost:8080/"
        },
        "id": "5_BHZmfpc-Ur",
        "outputId": "3b845f7a-2d58-496f-d0a9-9d8fc070e842"
      },
      "execution_count": 4,
      "outputs": [
        {
          "output_type": "stream",
          "name": "stdout",
          "text": [
            "(60000, 784)\n",
            "(10000, 784)\n"
          ]
        }
      ]
    },
    {
      "cell_type": "code",
      "source": [
        "# one hot encoding: \n",
        "from tensorflow.keras.utils import to_categorical \n",
        "y_train_c= to_categorical(y_train)\n",
        "y_test_c= to_categorical(y_test)\n",
        "print(\"Before:\",np.shape(y_train),\"After:\" ,np.shape(y_train_c))"
      ],
      "metadata": {
        "colab": {
          "base_uri": "https://localhost:8080/"
        },
        "id": "gO8n2aU3c4oU",
        "outputId": "efbb8b8f-bbc5-44e4-d141-f991e48bfef3"
      },
      "execution_count": 5,
      "outputs": [
        {
          "output_type": "stream",
          "name": "stdout",
          "text": [
            "Before: (60000,) After: (60000, 10)\n"
          ]
        }
      ]
    },
    {
      "cell_type": "code",
      "source": [
        "print(\"Before:\",y_train[1],\"after:\" ,y_train_c[1])"
      ],
      "metadata": {
        "colab": {
          "base_uri": "https://localhost:8080/"
        },
        "id": "tKdWisFwd0Ic",
        "outputId": "ee854241-1e9c-414a-d3a7-fbf8fca190a5"
      },
      "execution_count": 8,
      "outputs": [
        {
          "output_type": "stream",
          "name": "stdout",
          "text": [
            "Before: 0 after: [1. 0. 0. 0. 0. 0. 0. 0. 0. 0.]\n"
          ]
        }
      ]
    },
    {
      "cell_type": "markdown",
      "source": [
        "<h2><font color=pink>The models:</font>"
      ],
      "metadata": {
        "id": "iIL-vQm0egI0"
      }
    },
    {
      "cell_type": "markdown",
      "source": [
        "Model 1: Single layer perceptron (SLP)\n",
        "\n",
        "(With 0 hidden layrs)"
      ],
      "metadata": {
        "id": "IjPTWvFNe4sl"
      }
    },
    {
      "cell_type": "code",
      "source": [
        "from tensorflow.keras.layers import Input,Dense\n",
        "from tensorflow.keras.models import Model"
      ],
      "metadata": {
        "id": "-9MDp-Poe1nc"
      },
      "execution_count": 9,
      "outputs": []
    },
    {
      "cell_type": "code",
      "source": [
        "def SLP(): \n",
        "  inp=Input(shape=(28*28,))\n",
        "  outp=Dense(10,activation=\"softmax\")(inp)\n",
        "  model=Model(inp,outp)\n",
        "  model.summary()\n",
        "  return model"
      ],
      "metadata": {
        "id": "K_qhg0yHd_FK"
      },
      "execution_count": 10,
      "outputs": []
    },
    {
      "cell_type": "code",
      "source": [
        "#cost function\n",
        "cf=\"categorical_crossentropy\"\n",
        "\n",
        "#Optimizer (descent gradient)\n",
        "\n",
        "optim=tf.keras.optimizers.SGD(learning_rate=0.001)"
      ],
      "metadata": {
        "id": "sD4WV-cvgDK6"
      },
      "execution_count": 19,
      "outputs": []
    },
    {
      "cell_type": "code",
      "source": [
        "model1=SLP()\n",
        "model1.compile(loss=cf, optimizer=optim, metrics=[\"accuracy\"])\n",
        "hist=model1.fit(x_train_v,y_train_c, validation_data=(x_test_v,y_test_c), epochs=100, batch_size=100,shuffle=True)\n"
      ],
      "metadata": {
        "colab": {
          "base_uri": "https://localhost:8080/"
        },
        "id": "bXXGIG6Gfdl9",
        "outputId": "3812189a-f30d-406f-fe4e-c27553624a01"
      },
      "execution_count": 13,
      "outputs": [
        {
          "output_type": "stream",
          "name": "stdout",
          "text": [
            "Model: \"model_1\"\n",
            "_________________________________________________________________\n",
            " Layer (type)                Output Shape              Param #   \n",
            "=================================================================\n",
            " input_2 (InputLayer)        [(None, 784)]             0         \n",
            "                                                                 \n",
            " dense_1 (Dense)             (None, 10)                7850      \n",
            "                                                                 \n",
            "=================================================================\n",
            "Total params: 7,850\n",
            "Trainable params: 7,850\n",
            "Non-trainable params: 0\n",
            "_________________________________________________________________\n",
            "Epoch 1/100\n",
            "600/600 [==============================] - 2s 2ms/step - loss: 2.1017 - accuracy: 0.2976 - val_loss: 1.8391 - val_accuracy: 0.5275\n",
            "Epoch 2/100\n",
            "600/600 [==============================] - 1s 2ms/step - loss: 1.6618 - accuracy: 0.6254 - val_loss: 1.4877 - val_accuracy: 0.7007\n",
            "Epoch 3/100\n",
            "600/600 [==============================] - 1s 2ms/step - loss: 1.3839 - accuracy: 0.7247 - val_loss: 1.2598 - val_accuracy: 0.7620\n",
            "Epoch 4/100\n",
            "600/600 [==============================] - 1s 2ms/step - loss: 1.1998 - accuracy: 0.7669 - val_loss: 1.1055 - val_accuracy: 0.7903\n",
            "Epoch 5/100\n",
            "600/600 [==============================] - 1s 2ms/step - loss: 1.0717 - accuracy: 0.7903 - val_loss: 0.9956 - val_accuracy: 0.8077\n",
            "Epoch 6/100\n",
            "600/600 [==============================] - 1s 2ms/step - loss: 0.9782 - accuracy: 0.8041 - val_loss: 0.9137 - val_accuracy: 0.8209\n",
            "Epoch 7/100\n",
            "600/600 [==============================] - 1s 2ms/step - loss: 0.9071 - accuracy: 0.8156 - val_loss: 0.8506 - val_accuracy: 0.8292\n",
            "Epoch 8/100\n",
            "600/600 [==============================] - 1s 2ms/step - loss: 0.8513 - accuracy: 0.8235 - val_loss: 0.8003 - val_accuracy: 0.8355\n",
            "Epoch 9/100\n",
            "600/600 [==============================] - 1s 2ms/step - loss: 0.8061 - accuracy: 0.8299 - val_loss: 0.7593 - val_accuracy: 0.8424\n",
            "Epoch 10/100\n",
            "600/600 [==============================] - 1s 2ms/step - loss: 0.7689 - accuracy: 0.8353 - val_loss: 0.7252 - val_accuracy: 0.8470\n",
            "Epoch 11/100\n",
            "600/600 [==============================] - 1s 2ms/step - loss: 0.7376 - accuracy: 0.8392 - val_loss: 0.6963 - val_accuracy: 0.8511\n",
            "Epoch 12/100\n",
            "600/600 [==============================] - 1s 2ms/step - loss: 0.7109 - accuracy: 0.8426 - val_loss: 0.6715 - val_accuracy: 0.8541\n",
            "Epoch 13/100\n",
            "600/600 [==============================] - 1s 2ms/step - loss: 0.6877 - accuracy: 0.8462 - val_loss: 0.6499 - val_accuracy: 0.8575\n",
            "Epoch 14/100\n",
            "600/600 [==============================] - 1s 2ms/step - loss: 0.6675 - accuracy: 0.8492 - val_loss: 0.6310 - val_accuracy: 0.8600\n",
            "Epoch 15/100\n",
            "600/600 [==============================] - 1s 2ms/step - loss: 0.6496 - accuracy: 0.8517 - val_loss: 0.6143 - val_accuracy: 0.8622\n",
            "Epoch 16/100\n",
            "600/600 [==============================] - 1s 2ms/step - loss: 0.6337 - accuracy: 0.8541 - val_loss: 0.5993 - val_accuracy: 0.8637\n",
            "Epoch 17/100\n",
            "600/600 [==============================] - 1s 2ms/step - loss: 0.6194 - accuracy: 0.8558 - val_loss: 0.5858 - val_accuracy: 0.8654\n",
            "Epoch 18/100\n",
            "600/600 [==============================] - 1s 2ms/step - loss: 0.6065 - accuracy: 0.8576 - val_loss: 0.5736 - val_accuracy: 0.8674\n",
            "Epoch 19/100\n",
            "600/600 [==============================] - 1s 2ms/step - loss: 0.5948 - accuracy: 0.8590 - val_loss: 0.5625 - val_accuracy: 0.8689\n",
            "Epoch 20/100\n",
            "600/600 [==============================] - 1s 2ms/step - loss: 0.5841 - accuracy: 0.8605 - val_loss: 0.5524 - val_accuracy: 0.8700\n",
            "Epoch 21/100\n",
            "600/600 [==============================] - 1s 2ms/step - loss: 0.5742 - accuracy: 0.8620 - val_loss: 0.5431 - val_accuracy: 0.8711\n",
            "Epoch 22/100\n",
            "600/600 [==============================] - 1s 2ms/step - loss: 0.5652 - accuracy: 0.8635 - val_loss: 0.5344 - val_accuracy: 0.8727\n",
            "Epoch 23/100\n",
            "600/600 [==============================] - 1s 2ms/step - loss: 0.5568 - accuracy: 0.8647 - val_loss: 0.5265 - val_accuracy: 0.8740\n",
            "Epoch 24/100\n",
            "600/600 [==============================] - 1s 2ms/step - loss: 0.5490 - accuracy: 0.8663 - val_loss: 0.5191 - val_accuracy: 0.8758\n",
            "Epoch 25/100\n",
            "600/600 [==============================] - 1s 2ms/step - loss: 0.5418 - accuracy: 0.8675 - val_loss: 0.5122 - val_accuracy: 0.8768\n",
            "Epoch 26/100\n",
            "600/600 [==============================] - 1s 2ms/step - loss: 0.5350 - accuracy: 0.8686 - val_loss: 0.5057 - val_accuracy: 0.8777\n",
            "Epoch 27/100\n",
            "600/600 [==============================] - 1s 2ms/step - loss: 0.5287 - accuracy: 0.8694 - val_loss: 0.4997 - val_accuracy: 0.8789\n",
            "Epoch 28/100\n",
            "600/600 [==============================] - 1s 2ms/step - loss: 0.5227 - accuracy: 0.8702 - val_loss: 0.4940 - val_accuracy: 0.8799\n",
            "Epoch 29/100\n",
            "600/600 [==============================] - 1s 2ms/step - loss: 0.5171 - accuracy: 0.8713 - val_loss: 0.4887 - val_accuracy: 0.8806\n",
            "Epoch 30/100\n",
            "600/600 [==============================] - 1s 2ms/step - loss: 0.5118 - accuracy: 0.8719 - val_loss: 0.4836 - val_accuracy: 0.8816\n",
            "Epoch 31/100\n",
            "600/600 [==============================] - 1s 2ms/step - loss: 0.5068 - accuracy: 0.8728 - val_loss: 0.4789 - val_accuracy: 0.8826\n",
            "Epoch 32/100\n",
            "600/600 [==============================] - 1s 2ms/step - loss: 0.5021 - accuracy: 0.8735 - val_loss: 0.4743 - val_accuracy: 0.8827\n",
            "Epoch 33/100\n",
            "600/600 [==============================] - 1s 2ms/step - loss: 0.4976 - accuracy: 0.8744 - val_loss: 0.4700 - val_accuracy: 0.8834\n",
            "Epoch 34/100\n",
            "600/600 [==============================] - 1s 2ms/step - loss: 0.4933 - accuracy: 0.8750 - val_loss: 0.4660 - val_accuracy: 0.8840\n",
            "Epoch 35/100\n",
            "600/600 [==============================] - 1s 2ms/step - loss: 0.4892 - accuracy: 0.8756 - val_loss: 0.4621 - val_accuracy: 0.8845\n",
            "Epoch 36/100\n",
            "600/600 [==============================] - 1s 2ms/step - loss: 0.4853 - accuracy: 0.8763 - val_loss: 0.4584 - val_accuracy: 0.8847\n",
            "Epoch 37/100\n",
            "600/600 [==============================] - 1s 2ms/step - loss: 0.4816 - accuracy: 0.8770 - val_loss: 0.4548 - val_accuracy: 0.8848\n",
            "Epoch 38/100\n",
            "600/600 [==============================] - 1s 2ms/step - loss: 0.4781 - accuracy: 0.8778 - val_loss: 0.4515 - val_accuracy: 0.8852\n",
            "Epoch 39/100\n",
            "600/600 [==============================] - 1s 2ms/step - loss: 0.4747 - accuracy: 0.8784 - val_loss: 0.4482 - val_accuracy: 0.8859\n",
            "Epoch 40/100\n",
            "600/600 [==============================] - 1s 2ms/step - loss: 0.4714 - accuracy: 0.8790 - val_loss: 0.4452 - val_accuracy: 0.8866\n",
            "Epoch 41/100\n",
            "600/600 [==============================] - 1s 2ms/step - loss: 0.4683 - accuracy: 0.8793 - val_loss: 0.4422 - val_accuracy: 0.8865\n",
            "Epoch 42/100\n",
            "600/600 [==============================] - 1s 2ms/step - loss: 0.4653 - accuracy: 0.8797 - val_loss: 0.4393 - val_accuracy: 0.8870\n",
            "Epoch 43/100\n",
            "600/600 [==============================] - 1s 2ms/step - loss: 0.4624 - accuracy: 0.8802 - val_loss: 0.4366 - val_accuracy: 0.8871\n",
            "Epoch 44/100\n",
            "600/600 [==============================] - 1s 2ms/step - loss: 0.4596 - accuracy: 0.8808 - val_loss: 0.4340 - val_accuracy: 0.8878\n",
            "Epoch 45/100\n",
            "600/600 [==============================] - 2s 3ms/step - loss: 0.4570 - accuracy: 0.8811 - val_loss: 0.4314 - val_accuracy: 0.8884\n",
            "Epoch 46/100\n",
            "600/600 [==============================] - 3s 5ms/step - loss: 0.4544 - accuracy: 0.8817 - val_loss: 0.4289 - val_accuracy: 0.8886\n",
            "Epoch 47/100\n",
            "600/600 [==============================] - 3s 4ms/step - loss: 0.4519 - accuracy: 0.8822 - val_loss: 0.4266 - val_accuracy: 0.8891\n",
            "Epoch 48/100\n",
            "600/600 [==============================] - 3s 4ms/step - loss: 0.4495 - accuracy: 0.8826 - val_loss: 0.4243 - val_accuracy: 0.8897\n",
            "Epoch 49/100\n",
            "600/600 [==============================] - 3s 5ms/step - loss: 0.4471 - accuracy: 0.8831 - val_loss: 0.4221 - val_accuracy: 0.8902\n",
            "Epoch 50/100\n",
            "600/600 [==============================] - 1s 2ms/step - loss: 0.4449 - accuracy: 0.8834 - val_loss: 0.4199 - val_accuracy: 0.8903\n",
            "Epoch 51/100\n",
            "600/600 [==============================] - 1s 2ms/step - loss: 0.4427 - accuracy: 0.8837 - val_loss: 0.4179 - val_accuracy: 0.8909\n",
            "Epoch 52/100\n",
            "600/600 [==============================] - 2s 3ms/step - loss: 0.4406 - accuracy: 0.8843 - val_loss: 0.4159 - val_accuracy: 0.8913\n",
            "Epoch 53/100\n",
            "600/600 [==============================] - 1s 2ms/step - loss: 0.4386 - accuracy: 0.8846 - val_loss: 0.4140 - val_accuracy: 0.8914\n",
            "Epoch 54/100\n",
            "600/600 [==============================] - 1s 2ms/step - loss: 0.4366 - accuracy: 0.8852 - val_loss: 0.4121 - val_accuracy: 0.8918\n",
            "Epoch 55/100\n",
            "600/600 [==============================] - 1s 2ms/step - loss: 0.4346 - accuracy: 0.8854 - val_loss: 0.4103 - val_accuracy: 0.8922\n",
            "Epoch 56/100\n",
            "600/600 [==============================] - 1s 2ms/step - loss: 0.4328 - accuracy: 0.8860 - val_loss: 0.4085 - val_accuracy: 0.8924\n",
            "Epoch 57/100\n",
            "600/600 [==============================] - 1s 2ms/step - loss: 0.4310 - accuracy: 0.8864 - val_loss: 0.4068 - val_accuracy: 0.8928\n",
            "Epoch 58/100\n",
            "600/600 [==============================] - 1s 2ms/step - loss: 0.4292 - accuracy: 0.8867 - val_loss: 0.4051 - val_accuracy: 0.8935\n",
            "Epoch 59/100\n",
            "600/600 [==============================] - 1s 2ms/step - loss: 0.4275 - accuracy: 0.8870 - val_loss: 0.4035 - val_accuracy: 0.8937\n",
            "Epoch 60/100\n",
            "600/600 [==============================] - 1s 2ms/step - loss: 0.4258 - accuracy: 0.8872 - val_loss: 0.4019 - val_accuracy: 0.8942\n",
            "Epoch 61/100\n",
            "600/600 [==============================] - 1s 2ms/step - loss: 0.4242 - accuracy: 0.8877 - val_loss: 0.4004 - val_accuracy: 0.8941\n",
            "Epoch 62/100\n",
            "600/600 [==============================] - 1s 2ms/step - loss: 0.4226 - accuracy: 0.8880 - val_loss: 0.3988 - val_accuracy: 0.8945\n",
            "Epoch 63/100\n",
            "600/600 [==============================] - 1s 2ms/step - loss: 0.4210 - accuracy: 0.8881 - val_loss: 0.3974 - val_accuracy: 0.8948\n",
            "Epoch 64/100\n",
            "600/600 [==============================] - 1s 2ms/step - loss: 0.4195 - accuracy: 0.8886 - val_loss: 0.3960 - val_accuracy: 0.8948\n",
            "Epoch 65/100\n",
            "600/600 [==============================] - 1s 2ms/step - loss: 0.4181 - accuracy: 0.8889 - val_loss: 0.3946 - val_accuracy: 0.8950\n",
            "Epoch 66/100\n",
            "600/600 [==============================] - 1s 2ms/step - loss: 0.4166 - accuracy: 0.8892 - val_loss: 0.3932 - val_accuracy: 0.8954\n",
            "Epoch 67/100\n",
            "600/600 [==============================] - 1s 2ms/step - loss: 0.4152 - accuracy: 0.8895 - val_loss: 0.3919 - val_accuracy: 0.8956\n",
            "Epoch 68/100\n",
            "600/600 [==============================] - 1s 2ms/step - loss: 0.4138 - accuracy: 0.8898 - val_loss: 0.3906 - val_accuracy: 0.8960\n",
            "Epoch 69/100\n",
            "600/600 [==============================] - 1s 2ms/step - loss: 0.4125 - accuracy: 0.8900 - val_loss: 0.3894 - val_accuracy: 0.8965\n",
            "Epoch 70/100\n",
            "600/600 [==============================] - 1s 2ms/step - loss: 0.4112 - accuracy: 0.8902 - val_loss: 0.3881 - val_accuracy: 0.8966\n",
            "Epoch 71/100\n",
            "600/600 [==============================] - 1s 2ms/step - loss: 0.4099 - accuracy: 0.8904 - val_loss: 0.3869 - val_accuracy: 0.8969\n",
            "Epoch 72/100\n",
            "600/600 [==============================] - 1s 2ms/step - loss: 0.4087 - accuracy: 0.8907 - val_loss: 0.3858 - val_accuracy: 0.8973\n",
            "Epoch 73/100\n",
            "600/600 [==============================] - 1s 2ms/step - loss: 0.4075 - accuracy: 0.8909 - val_loss: 0.3846 - val_accuracy: 0.8976\n",
            "Epoch 74/100\n",
            "600/600 [==============================] - 1s 2ms/step - loss: 0.4063 - accuracy: 0.8909 - val_loss: 0.3835 - val_accuracy: 0.8983\n",
            "Epoch 75/100\n",
            "600/600 [==============================] - 1s 2ms/step - loss: 0.4051 - accuracy: 0.8912 - val_loss: 0.3824 - val_accuracy: 0.8987\n",
            "Epoch 76/100\n",
            "600/600 [==============================] - 1s 2ms/step - loss: 0.4039 - accuracy: 0.8914 - val_loss: 0.3813 - val_accuracy: 0.8988\n",
            "Epoch 77/100\n",
            "600/600 [==============================] - 1s 2ms/step - loss: 0.4028 - accuracy: 0.8916 - val_loss: 0.3803 - val_accuracy: 0.8988\n",
            "Epoch 78/100\n",
            "600/600 [==============================] - 1s 2ms/step - loss: 0.4017 - accuracy: 0.8920 - val_loss: 0.3793 - val_accuracy: 0.8991\n",
            "Epoch 79/100\n",
            "600/600 [==============================] - 1s 2ms/step - loss: 0.4006 - accuracy: 0.8920 - val_loss: 0.3783 - val_accuracy: 0.8992\n",
            "Epoch 80/100\n",
            "600/600 [==============================] - 1s 2ms/step - loss: 0.3996 - accuracy: 0.8922 - val_loss: 0.3773 - val_accuracy: 0.8994\n",
            "Epoch 81/100\n",
            "600/600 [==============================] - 1s 2ms/step - loss: 0.3985 - accuracy: 0.8927 - val_loss: 0.3763 - val_accuracy: 0.8997\n",
            "Epoch 82/100\n",
            "600/600 [==============================] - 1s 2ms/step - loss: 0.3975 - accuracy: 0.8927 - val_loss: 0.3754 - val_accuracy: 0.9002\n",
            "Epoch 83/100\n",
            "600/600 [==============================] - 1s 2ms/step - loss: 0.3965 - accuracy: 0.8930 - val_loss: 0.3744 - val_accuracy: 0.9004\n",
            "Epoch 84/100\n",
            "600/600 [==============================] - 1s 2ms/step - loss: 0.3955 - accuracy: 0.8932 - val_loss: 0.3735 - val_accuracy: 0.9007\n",
            "Epoch 85/100\n",
            "600/600 [==============================] - 1s 2ms/step - loss: 0.3946 - accuracy: 0.8934 - val_loss: 0.3726 - val_accuracy: 0.9008\n",
            "Epoch 86/100\n",
            "600/600 [==============================] - 1s 2ms/step - loss: 0.3936 - accuracy: 0.8936 - val_loss: 0.3718 - val_accuracy: 0.9009\n",
            "Epoch 87/100\n",
            "600/600 [==============================] - 1s 2ms/step - loss: 0.3927 - accuracy: 0.8936 - val_loss: 0.3709 - val_accuracy: 0.9010\n",
            "Epoch 88/100\n",
            "600/600 [==============================] - 1s 2ms/step - loss: 0.3918 - accuracy: 0.8939 - val_loss: 0.3701 - val_accuracy: 0.9010\n",
            "Epoch 89/100\n",
            "600/600 [==============================] - 1s 2ms/step - loss: 0.3909 - accuracy: 0.8940 - val_loss: 0.3692 - val_accuracy: 0.9011\n",
            "Epoch 90/100\n",
            "600/600 [==============================] - 1s 2ms/step - loss: 0.3900 - accuracy: 0.8942 - val_loss: 0.3684 - val_accuracy: 0.9011\n",
            "Epoch 91/100\n",
            "600/600 [==============================] - 1s 2ms/step - loss: 0.3892 - accuracy: 0.8945 - val_loss: 0.3676 - val_accuracy: 0.9014\n",
            "Epoch 92/100\n",
            "600/600 [==============================] - 1s 2ms/step - loss: 0.3883 - accuracy: 0.8947 - val_loss: 0.3668 - val_accuracy: 0.9017\n",
            "Epoch 93/100\n",
            "600/600 [==============================] - 1s 2ms/step - loss: 0.3875 - accuracy: 0.8948 - val_loss: 0.3661 - val_accuracy: 0.9024\n",
            "Epoch 94/100\n",
            "600/600 [==============================] - 1s 2ms/step - loss: 0.3867 - accuracy: 0.8950 - val_loss: 0.3653 - val_accuracy: 0.9027\n",
            "Epoch 95/100\n",
            "600/600 [==============================] - 1s 2ms/step - loss: 0.3858 - accuracy: 0.8952 - val_loss: 0.3645 - val_accuracy: 0.9027\n",
            "Epoch 96/100\n",
            "600/600 [==============================] - 1s 2ms/step - loss: 0.3850 - accuracy: 0.8954 - val_loss: 0.3638 - val_accuracy: 0.9029\n",
            "Epoch 97/100\n",
            "600/600 [==============================] - 1s 2ms/step - loss: 0.3843 - accuracy: 0.8956 - val_loss: 0.3631 - val_accuracy: 0.9030\n",
            "Epoch 98/100\n",
            "600/600 [==============================] - 1s 2ms/step - loss: 0.3835 - accuracy: 0.8957 - val_loss: 0.3624 - val_accuracy: 0.9032\n",
            "Epoch 99/100\n",
            "600/600 [==============================] - 1s 2ms/step - loss: 0.3827 - accuracy: 0.8959 - val_loss: 0.3617 - val_accuracy: 0.9031\n",
            "Epoch 100/100\n",
            "600/600 [==============================] - 1s 2ms/step - loss: 0.3820 - accuracy: 0.8960 - val_loss: 0.3610 - val_accuracy: 0.9030\n"
          ]
        }
      ]
    },
    {
      "cell_type": "code",
      "source": [
        "plt.rcParams[\"figure.figsize\"] = [6., 5.]\n",
        "plt.rcParams.update({'font.size': 14})\n",
        "plt.plot(hist.history[\"loss\"],c='b',label=\"Training errpr\")\n",
        "plt.plot(hist.history[\"val_loss\"],c='r',label=\"Test error\")\n",
        "plt.xlabel(\"epochs\")\n",
        "plt.ylabel(\"Error\")"
      ],
      "metadata": {
        "colab": {
          "base_uri": "https://localhost:8080/",
          "height": 359
        },
        "id": "PZcQSIlKfh_p",
        "outputId": "c63d6298-d5a3-4ddc-f3d8-bbd68f64dd6e"
      },
      "execution_count": 14,
      "outputs": [
        {
          "output_type": "execute_result",
          "data": {
            "text/plain": [
              "Text(0, 0.5, 'Error')"
            ]
          },
          "metadata": {},
          "execution_count": 14
        },
        {
          "output_type": "display_data",
          "data": {
            "text/plain": [
              "<Figure size 432x360 with 1 Axes>"
            ],
            "image/png": "[encoded data removed]"
          },
          "metadata": {
            "needs_background": "light"
          }
        }
      ]
    },
    {
      "cell_type": "markdown",
      "source": [
        "Model 2: Multilayer perceptron (MLP)"
      ],
      "metadata": {
        "id": "V6RR2c8Rgzzr"
      }
    },
    {
      "cell_type": "code",
      "source": [
        "def MLP(act):\n",
        "  inp=Input(shape=(784,))\n",
        "  l1=Dense(200, activation=act)(inp)\n",
        "  l2=Dense(100,activation=act)(l1)\n",
        "  l3=Dense(60,activation=act)(l2)\n",
        "  l4=Dense(30,activation=act)(l3)\n",
        "  outp=Dense(10,activation=\"softmax\")(l4)\n",
        "  model=Model(inp,outp)\n",
        "  model.summary() \n",
        "  return model"
      ],
      "metadata": {
        "id": "XqI2JZ_ThJbc"
      },
      "execution_count": 15,
      "outputs": []
    },
    {
      "cell_type": "code",
      "source": [
        "model2= MLP(\"relu\")\n",
        "model2.compile(loss=cf, optimizer=optim, metrics=[\"accuracy\"])\n",
        "hist=model2.fit(x_train_v,y_train_c, validation_data=(x_test_v,y_test_c), epochs=100, batch_size=100,shuffle=True)\n"
      ],
      "metadata": {
        "colab": {
          "base_uri": "https://localhost:8080/"
        },
        "id": "AAGCR8g4hYls",
        "outputId": "49534bc6-0946-4b66-a5c6-092f1d6e0800"
      },
      "execution_count": 17,
      "outputs": [
        {
          "output_type": "stream",
          "name": "stdout",
          "text": [
            "Model: \"model_3\"\n",
            "_________________________________________________________________\n",
            " Layer (type)                Output Shape              Param #   \n",
            "=================================================================\n",
            " input_4 (InputLayer)        [(None, 784)]             0         \n",
            "                                                                 \n",
            " dense_7 (Dense)             (None, 200)               157000    \n",
            "                                                                 \n",
            " dense_8 (Dense)             (None, 100)               20100     \n",
            "                                                                 \n",
            " dense_9 (Dense)             (None, 60)                6060      \n",
            "                                                                 \n",
            " dense_10 (Dense)            (None, 30)                1830      \n",
            "                                                                 \n",
            " dense_11 (Dense)            (None, 10)                310       \n",
            "                                                                 \n",
            "=================================================================\n",
            "Total params: 185,300\n",
            "Trainable params: 185,300\n",
            "Non-trainable params: 0\n",
            "_________________________________________________________________\n",
            "Epoch 1/100\n",
            "600/600 [==============================] - 3s 4ms/step - loss: 2.2375 - accuracy: 0.1767 - val_loss: 2.1642 - val_accuracy: 0.2647\n",
            "Epoch 2/100\n",
            "600/600 [==============================] - 2s 4ms/step - loss: 2.0789 - accuracy: 0.3332 - val_loss: 1.9720 - val_accuracy: 0.3781\n",
            "Epoch 3/100\n",
            "600/600 [==============================] - 2s 4ms/step - loss: 1.8521 - accuracy: 0.4263 - val_loss: 1.7027 - val_accuracy: 0.4862\n",
            "Epoch 4/100\n",
            "600/600 [==============================] - 2s 4ms/step - loss: 1.5567 - accuracy: 0.5626 - val_loss: 1.3747 - val_accuracy: 0.6760\n",
            "Epoch 5/100\n",
            "600/600 [==============================] - 2s 4ms/step - loss: 1.2255 - accuracy: 0.7273 - val_loss: 1.0414 - val_accuracy: 0.7864\n",
            "Epoch 6/100\n",
            "600/600 [==============================] - 2s 4ms/step - loss: 0.9343 - accuracy: 0.7951 - val_loss: 0.7978 - val_accuracy: 0.8210\n",
            "Epoch 7/100\n",
            "600/600 [==============================] - 2s 4ms/step - loss: 0.7435 - accuracy: 0.8216 - val_loss: 0.6509 - val_accuracy: 0.8398\n",
            "Epoch 8/100\n",
            "600/600 [==============================] - 2s 4ms/step - loss: 0.6283 - accuracy: 0.8389 - val_loss: 0.5623 - val_accuracy: 0.8538\n",
            "Epoch 9/100\n",
            "600/600 [==============================] - 2s 4ms/step - loss: 0.5556 - accuracy: 0.8513 - val_loss: 0.5063 - val_accuracy: 0.8618\n",
            "Epoch 10/100\n",
            "600/600 [==============================] - 2s 4ms/step - loss: 0.5063 - accuracy: 0.8611 - val_loss: 0.4659 - val_accuracy: 0.8702\n",
            "Epoch 11/100\n",
            "600/600 [==============================] - 2s 4ms/step - loss: 0.4709 - accuracy: 0.8684 - val_loss: 0.4373 - val_accuracy: 0.8771\n",
            "Epoch 12/100\n",
            "600/600 [==============================] - 2s 4ms/step - loss: 0.4444 - accuracy: 0.8740 - val_loss: 0.4155 - val_accuracy: 0.8810\n",
            "Epoch 13/100\n",
            "600/600 [==============================] - 2s 4ms/step - loss: 0.4231 - accuracy: 0.8798 - val_loss: 0.3960 - val_accuracy: 0.8862\n",
            "Epoch 14/100\n",
            "600/600 [==============================] - 2s 4ms/step - loss: 0.4054 - accuracy: 0.8838 - val_loss: 0.3816 - val_accuracy: 0.8906\n",
            "Epoch 15/100\n",
            "600/600 [==============================] - 2s 4ms/step - loss: 0.3903 - accuracy: 0.8880 - val_loss: 0.3686 - val_accuracy: 0.8954\n",
            "Epoch 16/100\n",
            "600/600 [==============================] - 3s 6ms/step - loss: 0.3773 - accuracy: 0.8911 - val_loss: 0.3563 - val_accuracy: 0.8965\n",
            "Epoch 17/100\n",
            "600/600 [==============================] - 2s 4ms/step - loss: 0.3654 - accuracy: 0.8946 - val_loss: 0.3457 - val_accuracy: 0.9005\n",
            "Epoch 18/100\n",
            "600/600 [==============================] - 2s 4ms/step - loss: 0.3548 - accuracy: 0.8975 - val_loss: 0.3371 - val_accuracy: 0.9022\n",
            "Epoch 19/100\n",
            "600/600 [==============================] - 2s 4ms/step - loss: 0.3452 - accuracy: 0.9006 - val_loss: 0.3269 - val_accuracy: 0.9054\n",
            "Epoch 20/100\n",
            "600/600 [==============================] - 2s 4ms/step - loss: 0.3363 - accuracy: 0.9030 - val_loss: 0.3196 - val_accuracy: 0.9082\n",
            "Epoch 21/100\n",
            "600/600 [==============================] - 2s 4ms/step - loss: 0.3284 - accuracy: 0.9054 - val_loss: 0.3118 - val_accuracy: 0.9104\n",
            "Epoch 22/100\n",
            "600/600 [==============================] - 2s 4ms/step - loss: 0.3210 - accuracy: 0.9080 - val_loss: 0.3050 - val_accuracy: 0.9123\n",
            "Epoch 23/100\n",
            "600/600 [==============================] - 3s 5ms/step - loss: 0.3143 - accuracy: 0.9095 - val_loss: 0.2995 - val_accuracy: 0.9137\n",
            "Epoch 24/100\n",
            "600/600 [==============================] - 3s 4ms/step - loss: 0.3079 - accuracy: 0.9114 - val_loss: 0.2944 - val_accuracy: 0.9166\n",
            "Epoch 25/100\n",
            "600/600 [==============================] - 2s 4ms/step - loss: 0.3020 - accuracy: 0.9128 - val_loss: 0.2880 - val_accuracy: 0.9179\n",
            "Epoch 26/100\n",
            "600/600 [==============================] - 3s 4ms/step - loss: 0.2964 - accuracy: 0.9147 - val_loss: 0.2830 - val_accuracy: 0.9187\n",
            "Epoch 27/100\n",
            "600/600 [==============================] - 2s 4ms/step - loss: 0.2910 - accuracy: 0.9158 - val_loss: 0.2792 - val_accuracy: 0.9203\n",
            "Epoch 28/100\n",
            "600/600 [==============================] - 3s 4ms/step - loss: 0.2862 - accuracy: 0.9173 - val_loss: 0.2741 - val_accuracy: 0.9212\n",
            "Epoch 29/100\n",
            "600/600 [==============================] - 3s 4ms/step - loss: 0.2813 - accuracy: 0.9192 - val_loss: 0.2704 - val_accuracy: 0.9218\n",
            "Epoch 30/100\n",
            "600/600 [==============================] - 2s 4ms/step - loss: 0.2767 - accuracy: 0.9201 - val_loss: 0.2661 - val_accuracy: 0.9221\n",
            "Epoch 31/100\n",
            "600/600 [==============================] - 2s 4ms/step - loss: 0.2726 - accuracy: 0.9216 - val_loss: 0.2616 - val_accuracy: 0.9246\n",
            "Epoch 32/100\n",
            "600/600 [==============================] - 2s 4ms/step - loss: 0.2683 - accuracy: 0.9231 - val_loss: 0.2577 - val_accuracy: 0.9265\n",
            "Epoch 33/100\n",
            "600/600 [==============================] - 2s 4ms/step - loss: 0.2643 - accuracy: 0.9241 - val_loss: 0.2548 - val_accuracy: 0.9258\n",
            "Epoch 34/100\n",
            "600/600 [==============================] - 2s 4ms/step - loss: 0.2606 - accuracy: 0.9257 - val_loss: 0.2507 - val_accuracy: 0.9270\n",
            "Epoch 35/100\n",
            "600/600 [==============================] - 2s 4ms/step - loss: 0.2569 - accuracy: 0.9268 - val_loss: 0.2476 - val_accuracy: 0.9287\n",
            "Epoch 36/100\n",
            "600/600 [==============================] - 2s 4ms/step - loss: 0.2533 - accuracy: 0.9274 - val_loss: 0.2444 - val_accuracy: 0.9279\n",
            "Epoch 37/100\n",
            "600/600 [==============================] - 3s 4ms/step - loss: 0.2500 - accuracy: 0.9287 - val_loss: 0.2416 - val_accuracy: 0.9293\n",
            "Epoch 38/100\n",
            "600/600 [==============================] - 2s 4ms/step - loss: 0.2467 - accuracy: 0.9301 - val_loss: 0.2395 - val_accuracy: 0.9299\n",
            "Epoch 39/100\n",
            "600/600 [==============================] - 2s 4ms/step - loss: 0.2435 - accuracy: 0.9303 - val_loss: 0.2361 - val_accuracy: 0.9313\n",
            "Epoch 40/100\n",
            "600/600 [==============================] - 2s 4ms/step - loss: 0.2403 - accuracy: 0.9311 - val_loss: 0.2328 - val_accuracy: 0.9322\n",
            "Epoch 41/100\n",
            "600/600 [==============================] - 2s 4ms/step - loss: 0.2373 - accuracy: 0.9325 - val_loss: 0.2315 - val_accuracy: 0.9325\n",
            "Epoch 42/100\n",
            "600/600 [==============================] - 2s 4ms/step - loss: 0.2344 - accuracy: 0.9329 - val_loss: 0.2270 - val_accuracy: 0.9324\n",
            "Epoch 43/100\n",
            "600/600 [==============================] - 2s 4ms/step - loss: 0.2315 - accuracy: 0.9339 - val_loss: 0.2255 - val_accuracy: 0.9340\n",
            "Epoch 44/100\n",
            "600/600 [==============================] - 2s 4ms/step - loss: 0.2288 - accuracy: 0.9347 - val_loss: 0.2231 - val_accuracy: 0.9342\n",
            "Epoch 45/100\n",
            "600/600 [==============================] - 3s 4ms/step - loss: 0.2260 - accuracy: 0.9355 - val_loss: 0.2198 - val_accuracy: 0.9362\n",
            "Epoch 46/100\n",
            "600/600 [==============================] - 2s 4ms/step - loss: 0.2233 - accuracy: 0.9363 - val_loss: 0.2177 - val_accuracy: 0.9371\n",
            "Epoch 47/100\n",
            "600/600 [==============================] - 3s 4ms/step - loss: 0.2208 - accuracy: 0.9373 - val_loss: 0.2154 - val_accuracy: 0.9363\n",
            "Epoch 48/100\n",
            "600/600 [==============================] - 3s 4ms/step - loss: 0.2183 - accuracy: 0.9377 - val_loss: 0.2133 - val_accuracy: 0.9376\n",
            "Epoch 49/100\n",
            "600/600 [==============================] - 3s 4ms/step - loss: 0.2158 - accuracy: 0.9385 - val_loss: 0.2114 - val_accuracy: 0.9380\n",
            "Epoch 50/100\n",
            "600/600 [==============================] - 3s 4ms/step - loss: 0.2134 - accuracy: 0.9395 - val_loss: 0.2088 - val_accuracy: 0.9392\n",
            "Epoch 51/100\n",
            "600/600 [==============================] - 2s 4ms/step - loss: 0.2108 - accuracy: 0.9402 - val_loss: 0.2067 - val_accuracy: 0.9396\n",
            "Epoch 52/100\n",
            "600/600 [==============================] - 3s 4ms/step - loss: 0.2086 - accuracy: 0.9407 - val_loss: 0.2067 - val_accuracy: 0.9392\n",
            "Epoch 53/100\n",
            "600/600 [==============================] - 3s 4ms/step - loss: 0.2063 - accuracy: 0.9412 - val_loss: 0.2020 - val_accuracy: 0.9413\n",
            "Epoch 54/100\n",
            "600/600 [==============================] - 3s 4ms/step - loss: 0.2041 - accuracy: 0.9413 - val_loss: 0.2008 - val_accuracy: 0.9416\n",
            "Epoch 55/100\n",
            "600/600 [==============================] - 3s 4ms/step - loss: 0.2018 - accuracy: 0.9427 - val_loss: 0.1987 - val_accuracy: 0.9414\n",
            "Epoch 56/100\n",
            "600/600 [==============================] - 2s 4ms/step - loss: 0.1998 - accuracy: 0.9431 - val_loss: 0.1963 - val_accuracy: 0.9430\n",
            "Epoch 57/100\n",
            "600/600 [==============================] - 2s 4ms/step - loss: 0.1976 - accuracy: 0.9434 - val_loss: 0.1950 - val_accuracy: 0.9428\n",
            "Epoch 58/100\n",
            "600/600 [==============================] - 2s 4ms/step - loss: 0.1956 - accuracy: 0.9446 - val_loss: 0.1931 - val_accuracy: 0.9432\n",
            "Epoch 59/100\n",
            "600/600 [==============================] - 2s 4ms/step - loss: 0.1936 - accuracy: 0.9450 - val_loss: 0.1911 - val_accuracy: 0.9442\n",
            "Epoch 60/100\n",
            "600/600 [==============================] - 2s 4ms/step - loss: 0.1917 - accuracy: 0.9456 - val_loss: 0.1894 - val_accuracy: 0.9440\n",
            "Epoch 61/100\n",
            "600/600 [==============================] - 2s 4ms/step - loss: 0.1898 - accuracy: 0.9460 - val_loss: 0.1877 - val_accuracy: 0.9439\n",
            "Epoch 62/100\n",
            "600/600 [==============================] - 3s 4ms/step - loss: 0.1879 - accuracy: 0.9466 - val_loss: 0.1866 - val_accuracy: 0.9448\n",
            "Epoch 63/100\n",
            "600/600 [==============================] - 2s 4ms/step - loss: 0.1861 - accuracy: 0.9473 - val_loss: 0.1847 - val_accuracy: 0.9456\n",
            "Epoch 64/100\n",
            "600/600 [==============================] - 3s 4ms/step - loss: 0.1842 - accuracy: 0.9476 - val_loss: 0.1836 - val_accuracy: 0.9455\n",
            "Epoch 65/100\n",
            "600/600 [==============================] - 2s 4ms/step - loss: 0.1824 - accuracy: 0.9486 - val_loss: 0.1821 - val_accuracy: 0.9468\n",
            "Epoch 66/100\n",
            "600/600 [==============================] - 2s 4ms/step - loss: 0.1808 - accuracy: 0.9491 - val_loss: 0.1800 - val_accuracy: 0.9466\n",
            "Epoch 67/100\n",
            "600/600 [==============================] - 2s 4ms/step - loss: 0.1789 - accuracy: 0.9494 - val_loss: 0.1783 - val_accuracy: 0.9468\n",
            "Epoch 68/100\n",
            "600/600 [==============================] - 3s 4ms/step - loss: 0.1773 - accuracy: 0.9497 - val_loss: 0.1772 - val_accuracy: 0.9483\n",
            "Epoch 69/100\n",
            "600/600 [==============================] - 3s 4ms/step - loss: 0.1757 - accuracy: 0.9503 - val_loss: 0.1761 - val_accuracy: 0.9478\n",
            "Epoch 70/100\n",
            "600/600 [==============================] - 2s 4ms/step - loss: 0.1740 - accuracy: 0.9512 - val_loss: 0.1746 - val_accuracy: 0.9488\n",
            "Epoch 71/100\n",
            "600/600 [==============================] - 2s 4ms/step - loss: 0.1725 - accuracy: 0.9510 - val_loss: 0.1733 - val_accuracy: 0.9492\n",
            "Epoch 72/100\n",
            "600/600 [==============================] - 2s 4ms/step - loss: 0.1708 - accuracy: 0.9516 - val_loss: 0.1726 - val_accuracy: 0.9488\n",
            "Epoch 73/100\n",
            "600/600 [==============================] - 3s 4ms/step - loss: 0.1693 - accuracy: 0.9518 - val_loss: 0.1713 - val_accuracy: 0.9500\n",
            "Epoch 74/100\n",
            "600/600 [==============================] - 2s 4ms/step - loss: 0.1679 - accuracy: 0.9524 - val_loss: 0.1688 - val_accuracy: 0.9510\n",
            "Epoch 75/100\n",
            "600/600 [==============================] - 3s 4ms/step - loss: 0.1662 - accuracy: 0.9532 - val_loss: 0.1695 - val_accuracy: 0.9502\n",
            "Epoch 76/100\n",
            "600/600 [==============================] - 3s 4ms/step - loss: 0.1649 - accuracy: 0.9530 - val_loss: 0.1670 - val_accuracy: 0.9500\n",
            "Epoch 77/100\n",
            "600/600 [==============================] - 2s 4ms/step - loss: 0.1634 - accuracy: 0.9538 - val_loss: 0.1659 - val_accuracy: 0.9514\n",
            "Epoch 78/100\n",
            "600/600 [==============================] - 2s 4ms/step - loss: 0.1620 - accuracy: 0.9541 - val_loss: 0.1636 - val_accuracy: 0.9521\n",
            "Epoch 79/100\n",
            "600/600 [==============================] - 3s 4ms/step - loss: 0.1606 - accuracy: 0.9542 - val_loss: 0.1633 - val_accuracy: 0.9524\n",
            "Epoch 80/100\n",
            "600/600 [==============================] - 3s 4ms/step - loss: 0.1593 - accuracy: 0.9545 - val_loss: 0.1618 - val_accuracy: 0.9517\n",
            "Epoch 81/100\n",
            "600/600 [==============================] - 3s 4ms/step - loss: 0.1579 - accuracy: 0.9549 - val_loss: 0.1617 - val_accuracy: 0.9524\n",
            "Epoch 82/100\n",
            "600/600 [==============================] - 3s 4ms/step - loss: 0.1565 - accuracy: 0.9554 - val_loss: 0.1603 - val_accuracy: 0.9528\n",
            "Epoch 83/100\n",
            "600/600 [==============================] - 2s 4ms/step - loss: 0.1552 - accuracy: 0.9554 - val_loss: 0.1593 - val_accuracy: 0.9539\n",
            "Epoch 84/100\n",
            "600/600 [==============================] - 3s 4ms/step - loss: 0.1540 - accuracy: 0.9560 - val_loss: 0.1574 - val_accuracy: 0.9542\n",
            "Epoch 85/100\n",
            "600/600 [==============================] - 2s 4ms/step - loss: 0.1527 - accuracy: 0.9565 - val_loss: 0.1571 - val_accuracy: 0.9542\n",
            "Epoch 86/100\n",
            "600/600 [==============================] - 2s 4ms/step - loss: 0.1514 - accuracy: 0.9569 - val_loss: 0.1563 - val_accuracy: 0.9552\n",
            "Epoch 87/100\n",
            "600/600 [==============================] - 3s 4ms/step - loss: 0.1501 - accuracy: 0.9574 - val_loss: 0.1555 - val_accuracy: 0.9543\n",
            "Epoch 88/100\n",
            "600/600 [==============================] - 3s 4ms/step - loss: 0.1489 - accuracy: 0.9576 - val_loss: 0.1538 - val_accuracy: 0.9555\n",
            "Epoch 89/100\n",
            "600/600 [==============================] - 2s 4ms/step - loss: 0.1478 - accuracy: 0.9580 - val_loss: 0.1525 - val_accuracy: 0.9552\n",
            "Epoch 90/100\n",
            "600/600 [==============================] - 3s 4ms/step - loss: 0.1466 - accuracy: 0.9585 - val_loss: 0.1516 - val_accuracy: 0.9553\n",
            "Epoch 91/100\n",
            "600/600 [==============================] - 3s 4ms/step - loss: 0.1454 - accuracy: 0.9585 - val_loss: 0.1510 - val_accuracy: 0.9558\n",
            "Epoch 92/100\n",
            "600/600 [==============================] - 3s 4ms/step - loss: 0.1442 - accuracy: 0.9586 - val_loss: 0.1497 - val_accuracy: 0.9551\n",
            "Epoch 93/100\n",
            "600/600 [==============================] - 2s 4ms/step - loss: 0.1431 - accuracy: 0.9593 - val_loss: 0.1497 - val_accuracy: 0.9562\n",
            "Epoch 94/100\n",
            "600/600 [==============================] - 3s 4ms/step - loss: 0.1419 - accuracy: 0.9594 - val_loss: 0.1480 - val_accuracy: 0.9559\n",
            "Epoch 95/100\n",
            "600/600 [==============================] - 2s 4ms/step - loss: 0.1409 - accuracy: 0.9599 - val_loss: 0.1472 - val_accuracy: 0.9565\n",
            "Epoch 96/100\n",
            "600/600 [==============================] - 2s 4ms/step - loss: 0.1397 - accuracy: 0.9602 - val_loss: 0.1462 - val_accuracy: 0.9570\n",
            "Epoch 97/100\n",
            "600/600 [==============================] - 4s 6ms/step - loss: 0.1388 - accuracy: 0.9607 - val_loss: 0.1458 - val_accuracy: 0.9563\n",
            "Epoch 98/100\n",
            "600/600 [==============================] - 2s 4ms/step - loss: 0.1376 - accuracy: 0.9606 - val_loss: 0.1454 - val_accuracy: 0.9567\n",
            "Epoch 99/100\n",
            "600/600 [==============================] - 2s 4ms/step - loss: 0.1364 - accuracy: 0.9614 - val_loss: 0.1449 - val_accuracy: 0.9575\n",
            "Epoch 100/100\n",
            "600/600 [==============================] - 3s 4ms/step - loss: 0.1356 - accuracy: 0.9616 - val_loss: 0.1437 - val_accuracy: 0.9573\n"
          ]
        }
      ]
    },
    {
      "cell_type": "code",
      "source": [
        "plt.rcParams[\"figure.figsize\"] = [6., 5.]\n",
        "plt.rcParams.update({'font.size': 14})\n",
        "plt.plot(hist.history[\"loss\"],c='b',label=\"Training errpr\")\n",
        "plt.plot(hist.history[\"val_loss\"],c='r',label=\"Test error\")\n",
        "plt.xlabel(\"epochs\")\n",
        "plt.ylabel(\"Error\")"
      ],
      "metadata": {
        "colab": {
          "base_uri": "https://localhost:8080/",
          "height": 359
        },
        "id": "hTp0PHofh1Dq",
        "outputId": "b8b566cc-7920-4dfa-feeb-3da709b33401"
      },
      "execution_count": 18,
      "outputs": [
        {
          "output_type": "execute_result",
          "data": {
            "text/plain": [
              "Text(0, 0.5, 'Error')"
            ]
          },
          "metadata": {},
          "execution_count": 18
        },
        {
          "output_type": "display_data",
          "data": {
            "text/plain": [
              "<Figure size 432x360 with 1 Axes>"
            ],
            "image/png": "[encoded data removed]"
          },
          "metadata": {
            "needs_background": "light"
          }
        }
      ]
    },
    {
      "cell_type": "code",
      "source": [
        ""
      ],
      "metadata": {
        "id": "A1giK8NcjJDj"
      },
      "execution_count": null,
      "outputs": []
    }
  ]
}
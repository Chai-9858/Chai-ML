{
  "nbformat": 4,
  "nbformat_minor": 0,
  "metadata": {
    "colab": {
      "name": "Linear_regression.ipynb",
      "provenance": [],
      "collapsed_sections": [],
      "authorship_tag": "ABX9TyOQ3fsKC7F4D8V7O0Dlw2sg",
      "include_colab_link": true
    },
    "kernelspec": {
      "name": "python3",
      "display_name": "Python 3"
    },
    "language_info": {
      "name": "python"
    }
  },
  "cells": [
    {
      "cell_type": "markdown",
      "metadata": {
        "id": "view-in-github",
        "colab_type": "text"
      },
      "source": [
        "<a href=\"https://colab.research.google.com/github/Chai-9858/Chai-ML/blob/main/Linear_regression.ipynb\" target=\"_parent\"><img src=\"https://colab.research.google.com/assets/colab-badge.svg\" alt=\"Open In Colab\"/></a>"
      ]
    },
    {
      "cell_type": "markdown",
      "source": [
        "<h3><font color=Blue>This is an implementation of linear regression using a single perceptron from scratch</font>\n",
        "\n"
      ],
      "metadata": {
        "id": "SG5G22aYVxyo"
      }
    },
    {
      "cell_type": "markdown",
      "source": [
        "<h3><font color=pink>Importing the libraries:</font>"
      ],
      "metadata": {
        "id": "TAr_sPWaX0oa"
      }
    },
    {
      "cell_type": "code",
      "metadata": {
        "id": "8i3mokMIIw2F"
      },
      "source": [
        "import numpy as np \n",
        "import matplotlib.pyplot as plt\n",
        "from sklearn.datasets import make_regression"
      ],
      "execution_count": 1,
      "outputs": []
    },
    {
      "cell_type": "code",
      "metadata": {
        "id": "YvjluDfkJteq",
        "colab": {
          "base_uri": "https://localhost:8080/"
        },
        "outputId": "080d23c0-10e8-4ac5-8b68-af252dbf0a54"
      },
      "source": [
        "x,y= make_regression(n_samples= 100, n_features= 1, noise = 10)\n",
        "print(np.shape(x), np.shape(y))"
      ],
      "execution_count": 2,
      "outputs": [
        {
          "output_type": "stream",
          "name": "stdout",
          "text": [
            "(100, 1) (100,)\n"
          ]
        }
      ]
    },
    {
      "cell_type": "code",
      "metadata": {
        "colab": {
          "base_uri": "https://localhost:8080/"
        },
        "id": "-fpGmcpzL-t_",
        "outputId": "0184b6a5-28ce-4c5e-d548-43685f2ba4ac"
      },
      "source": [
        "#reshaping y\n",
        "y=y.reshape(len(y), 1)\n",
        "print(np.shape(x), np.shape(y))"
      ],
      "execution_count": 3,
      "outputs": [
        {
          "output_type": "stream",
          "name": "stdout",
          "text": [
            "(100, 1) (100, 1)\n"
          ]
        }
      ]
    },
    {
      "cell_type": "code",
      "metadata": {
        "colab": {
          "base_uri": "https://localhost:8080/",
          "height": 282
        },
        "id": "Q4l_eSe8MSoc",
        "outputId": "fc222839-c12e-4697-b581-44f6d4aff991"
      },
      "source": [
        "#plotting the data points\n",
        "plt.scatter(x,y,c=\"b\")"
      ],
      "execution_count": 4,
      "outputs": [
        {
          "output_type": "execute_result",
          "data": {
            "text/plain": [
              "<matplotlib.collections.PathCollection at 0x7fdeb5a89510>"
            ]
          },
          "metadata": {},
          "execution_count": 4
        },
        {
          "output_type": "display_data",
          "data": {
            "text/plain": [
              "<Figure size 432x288 with 1 Axes>"
            ],
            "image/png": "[encoded data removed]"
          },
          "metadata": {
            "needs_background": "light"
          }
        }
      ]
    },
    {
      "cell_type": "code",
      "metadata": {
        "colab": {
          "base_uri": "https://localhost:8080/"
        },
        "id": "oau8VgQ6O2TD",
        "outputId": "a66d0a44-8968-4230-f127-03cb8bf200b0"
      },
      "source": [
        "#Identity function (we're gonna use it as the activation function of the perceptron)\n",
        "I=np.ones((len(x), 1))\n",
        "print(np.shape(I))"
      ],
      "execution_count": 5,
      "outputs": [
        {
          "output_type": "stream",
          "name": "stdout",
          "text": [
            "(100, 1)\n"
          ]
        }
      ]
    },
    {
      "cell_type": "code",
      "metadata": {
        "colab": {
          "base_uri": "https://localhost:8080/"
        },
        "id": "Ay23OtRiNaLi",
        "outputId": "b1836312-0257-4f0b-ce7f-30cbfa87cf1f"
      },
      "source": [
        "#Horizontally stacking a vector of ones with X\n",
        "X=np.hstack((x,np.ones((len(x),1))))\n",
        "print(np.shape(X))"
      ],
      "execution_count": 6,
      "outputs": [
        {
          "output_type": "stream",
          "name": "stdout",
          "text": [
            "(100, 2)\n"
          ]
        }
      ]
    },
    {
      "cell_type": "code",
      "metadata": {
        "colab": {
          "base_uri": "https://localhost:8080/"
        },
        "id": "WE9nIX1MPHnF",
        "outputId": "bc2956ad-2148-45bc-ee4c-c8482633b748"
      },
      "source": [
        "X"
      ],
      "execution_count": 7,
      "outputs": [
        {
          "output_type": "execute_result",
          "data": {
            "text/plain": [
              "array([[-0.92466203,  1.        ],\n",
              "       [-0.93752412,  1.        ],\n",
              "       [ 0.96342577,  1.        ],\n",
              "       [-0.25563978,  1.        ],\n",
              "       [-0.15617263,  1.        ],\n",
              "       [ 0.46142816,  1.        ],\n",
              "       [-2.74821202,  1.        ],\n",
              "       [ 2.04011339,  1.        ],\n",
              "       [-1.26145534,  1.        ],\n",
              "       [-0.12640518,  1.        ],\n",
              "       [-1.32216382,  1.        ],\n",
              "       [-0.18448156,  1.        ],\n",
              "       [-0.38637181,  1.        ],\n",
              "       [-0.17678871,  1.        ],\n",
              "       [ 1.50921836,  1.        ],\n",
              "       [-0.54679942,  1.        ],\n",
              "       [-0.57374806,  1.        ],\n",
              "       [ 1.23343702,  1.        ],\n",
              "       [-0.11169904,  1.        ],\n",
              "       [ 1.51815716,  1.        ],\n",
              "       [ 0.75486819,  1.        ],\n",
              "       [ 0.67798255,  1.        ],\n",
              "       [ 1.15947626,  1.        ],\n",
              "       [-1.60087377,  1.        ],\n",
              "       [-0.34691334,  1.        ],\n",
              "       [ 0.09038946,  1.        ],\n",
              "       [-1.32300978,  1.        ],\n",
              "       [-0.35853037,  1.        ],\n",
              "       [-1.44328697,  1.        ],\n",
              "       [-1.66278624,  1.        ],\n",
              "       [ 0.2703565 ,  1.        ],\n",
              "       [ 1.81297954,  1.        ],\n",
              "       [ 0.9561996 ,  1.        ],\n",
              "       [-1.29954992,  1.        ],\n",
              "       [ 0.0039342 ,  1.        ],\n",
              "       [-0.6479087 ,  1.        ],\n",
              "       [-0.40559586,  1.        ],\n",
              "       [ 1.25010375,  1.        ],\n",
              "       [ 0.98684235,  1.        ],\n",
              "       [-0.80626122,  1.        ],\n",
              "       [-0.16363686,  1.        ],\n",
              "       [ 1.10707972,  1.        ],\n",
              "       [-0.30764363,  1.        ],\n",
              "       [-0.66748602,  1.        ],\n",
              "       [ 1.23969897,  1.        ],\n",
              "       [ 1.39711638,  1.        ],\n",
              "       [-1.0830432 ,  1.        ],\n",
              "       [ 0.71625692,  1.        ],\n",
              "       [-0.05574423,  1.        ],\n",
              "       [-1.32436018,  1.        ],\n",
              "       [ 0.23439526,  1.        ],\n",
              "       [-0.3538561 ,  1.        ],\n",
              "       [ 0.75144411,  1.        ],\n",
              "       [-0.31629353,  1.        ],\n",
              "       [-0.78382172,  1.        ],\n",
              "       [-0.62644459,  1.        ],\n",
              "       [ 0.25337006,  1.        ],\n",
              "       [-1.13042803,  1.        ],\n",
              "       [-0.0788146 ,  1.        ],\n",
              "       [-3.07895511,  1.        ],\n",
              "       [ 1.42269244,  1.        ],\n",
              "       [ 0.06861784,  1.        ],\n",
              "       [ 0.02075461,  1.        ],\n",
              "       [ 1.58369221,  1.        ],\n",
              "       [ 0.23935986,  1.        ],\n",
              "       [-1.2090927 ,  1.        ],\n",
              "       [-0.66252967,  1.        ],\n",
              "       [-0.90449531,  1.        ],\n",
              "       [-1.65302726,  1.        ],\n",
              "       [-0.09925589,  1.        ],\n",
              "       [ 1.07297265,  1.        ],\n",
              "       [ 1.21090781,  1.        ],\n",
              "       [ 0.17073619,  1.        ],\n",
              "       [ 0.26536904,  1.        ],\n",
              "       [ 0.36008732,  1.        ],\n",
              "       [ 0.80192505,  1.        ],\n",
              "       [ 0.58543789,  1.        ],\n",
              "       [-0.51959091,  1.        ],\n",
              "       [ 0.11123473,  1.        ],\n",
              "       [ 0.92608051,  1.        ],\n",
              "       [-0.13015768,  1.        ],\n",
              "       [ 2.01895136,  1.        ],\n",
              "       [ 2.35197061,  1.        ],\n",
              "       [ 0.67764592,  1.        ],\n",
              "       [-0.72947139,  1.        ],\n",
              "       [-0.05913785,  1.        ],\n",
              "       [-0.53407158,  1.        ],\n",
              "       [ 0.95541362,  1.        ],\n",
              "       [-0.64520014,  1.        ],\n",
              "       [ 0.14633608,  1.        ],\n",
              "       [-0.68281238,  1.        ],\n",
              "       [-1.0850972 ,  1.        ],\n",
              "       [-0.32368594,  1.        ],\n",
              "       [-0.82795571,  1.        ],\n",
              "       [ 0.55680651,  1.        ],\n",
              "       [ 1.9679816 ,  1.        ],\n",
              "       [-1.55271015,  1.        ],\n",
              "       [-1.93123678,  1.        ],\n",
              "       [ 0.50423074,  1.        ],\n",
              "       [-0.55694167,  1.        ]])"
            ]
          },
          "metadata": {},
          "execution_count": 7
        }
      ]
    },
    {
      "cell_type": "code",
      "metadata": {
        "colab": {
          "base_uri": "https://localhost:8080/"
        },
        "id": "toxin7zrQUuw",
        "outputId": "9031e75d-e17c-4f36-b4c8-619f8704dd7f"
      },
      "source": [
        "#The weights initialized randomly\n",
        "W= np.random.rand(2,1)\n",
        "print(W)"
      ],
      "execution_count": 8,
      "outputs": [
        {
          "output_type": "stream",
          "name": "stdout",
          "text": [
            "[[0.42313664]\n",
            " [0.02997882]]\n"
          ]
        }
      ]
    },
    {
      "cell_type": "code",
      "metadata": {
        "id": "nDY3Q5SDMsu2"
      },
      "source": [
        "#The perceptron function\n",
        "def agregation(X,W):\n",
        "  return X.dot(W)"
      ],
      "execution_count": 9,
      "outputs": []
    },
    {
      "cell_type": "code",
      "source": [
        "#Activation function:\n",
        "def activation(Z):\n",
        "  return Z"
      ],
      "metadata": {
        "id": "srpedOknZoDN"
      },
      "execution_count": 10,
      "outputs": []
    },
    {
      "cell_type": "code",
      "metadata": {
        "id": "KLMcrP9eRczp"
      },
      "source": [
        "#the model\n",
        "def perceptron(X,W):\n",
        "  Z= agregation(X,W)\n",
        "  a=activation(Z)\n",
        "  return a"
      ],
      "execution_count": 11,
      "outputs": []
    },
    {
      "cell_type": "markdown",
      "metadata": {
        "id": "FKP501esUrFg"
      },
      "source": [
        "#Now let's see how our model is working with no cost function"
      ]
    },
    {
      "cell_type": "code",
      "metadata": {
        "colab": {
          "base_uri": "https://localhost:8080/",
          "height": 282
        },
        "id": "MaYssN83Urfx",
        "outputId": "39b7c05b-773f-4da9-e484-5c6b9545deb0"
      },
      "source": [
        "y_pred=perceptron(X,W)\n",
        "plt.scatter(x,y, c ='b',label=\"Data points\")\n",
        "plt.plot(x,y_pred,c='r', label =\"Regression line\")\n",
        "plt.legend()"
      ],
      "execution_count": 12,
      "outputs": [
        {
          "output_type": "execute_result",
          "data": {
            "text/plain": [
              "<matplotlib.legend.Legend at 0x7fdeb55953d0>"
            ]
          },
          "metadata": {},
          "execution_count": 12
        },
        {
          "output_type": "display_data",
          "data": {
            "text/plain": [
              "<Figure size 432x288 with 1 Axes>"
            ],
            "image/png": "[encoded data removed]"
          },
          "metadata": {
            "needs_background": "light"
          }
        }
      ]
    },
    {
      "cell_type": "markdown",
      "metadata": {
        "id": "kSuuYFABSC-s"
      },
      "source": [
        "# **The cost function**\n",
        "\n",
        "We will be using the mean squared error function \n",
        "\n",
        "![E_TroKxXsAcpUYO.png](data:image/png;base64,iVBORw0KGgoAAAANSUhEUgAAAZQAAACMCAMAAABs6a/QAAAC/VBMVEX////U1NQ5OTktLS0HBwcAAABJSUn+/v5ycnIoKCgDAwMbGxsxMTHKysr5+fn29vYhISECAgLW1tb7+/v19fVCQkJWVlbx8fH39/fb29tUVFQ9PT38/PxFRUXJycmNjY2bm5vY2NgEBAQKCgrR0dHy8vIcHBxPT0/o6OhGRkaIiIhlZWXz8/NTU1OdnZ0WFhatra2/v7/n5+d8fHyKiop7e3vq6uqlpaW0tLSLi4s2NjZSUlJLS0vV1dXt7e3e3t4aGhr9/f1RUVGRkZGjo6O9vb3Nzc1NTU3r6+uHh4fDw8N2dnZaWlppaWn6+vqvr68eHh6Ghobs7OwXFxe3t7ddXV3l5eV1dXV3d3cNDQ3Z2dm5ubk+Pj7S0tJgYGAUFBSEhIQJCQnw8PBBQUEfHx+QkJDk5ORra2vc3Nx6enq1tbWhoaGxsbHh4eHj4+PX19eUlJSenp4BAQHd3d1jY2OwsLCsrKypqamgoKCPj49+fn48PDxXV1empqbu7u7IyMhAQED09PRiYmKWlpZtbW0/Pz+MjIwjIyPT09MQEBDv7++BgYFHR0doaGj4+PjQ0NAFBQW4uLinp6e+vr4ZGRng4OBzc3MRERFQUFC2trYSEhLf39+zs7MzMzOrq6va2tpnZ2eqqqosLCyOjo5bW1sgICA1NTWYmJgkJCR5eXmAgIDp6emDg4OZmZlEREQwMDBOTk4LCwsiIiLGxsbMzMwlJSUyMjIVFRWCgoITExN0dHQGBgaJiYnCwsJISEgPDw+ysrI4ODg3NzcICAh/f3/Hx8dZWVk6OjoMDAwuLi5hYWEODg6kpKSTk5NVVVWSkpK7u7twcHB9fX28vLyXl5crKys7OzuioqIpKSlMTEyFhYV4eHjPz8/m5ua6urpKSkonJycqKipvb29kZGQvLy/ExMQYGBiamppcXFzFxcWfn59xcXE0NDTi4uJYWFicnJzOzs5fX19DQ0MdHR3BwcGoqKheXl5sbGzAwMDLy8smJiZmZmZqamqurq6VlZX4i/N5AAAQOklEQVR4nO2dfVwTRxrHp8ojgpaIAYklXHkRQUtBUNH6BogColIFteIbQpFqRdTUN1RUjrYKKnJq8YWqnBZErSi1ioqKiu9vrWfPan3X1tZqDzmtttbe53ZnN8km2SS7ISRo5/sHOzM7O/uwv915nwlCBAKBQCAQCAQCgUAgEAgEAoFAIBAIdcUrDRraQCPstG1sZw9Nmr5qZYsIyNZB0szesTl2S52cW7jIbK1sEYGi5WuNwFXOuN3+Zl1bCCyvu3t4erXCTu/WVraFwGDr44vaQFvsbvWGlY0hMPi9iZA/BPjR7naB1raGgAlqj5AEoAPt7hhsbWsImE6dqT9vQRcZdegqsbY1BEy37tSfHgGeHgiFtLC2MQSMSyj9dYT1BGeEwntZ2xoCpndXfHgVICIsMsrKxhAY+kQzR1fo69fPuqYQlPSPYY5v2w/wHWhdUwhKlM3F2DjoOsiqlrzcDPYTHnfIO0rXUIgfVhfWEBCKGT4CRgqPPSpc6ZQlxMnqxKK/ONKQzqMDEkGwKEnh70LymBTW997gurLrL81Y58hx7493FCxKSirNBNaXllZXdhEGCReFYCmIKPUQIko9hIhSDyGi1EOIKPUQIko9hIhSDyGi1EOIKPUQg6JMnCSCyRa0+iXHoChtAaPgBbSJsKDZLzcGRfkgAD/tKVN5mDa914z0maNmBahEmR1mQbtfagyXKe088eOeaCgF34wWDRPpWE3mmNu4WjMhOnCur7WNEI9hUaT9sCjzjCSSOfHvdLQscxpmBqQfftT24/lxHa1th2iM1b4aYFWU8yX0s2CUDWTnmM8uczB6oRShnEWwONfalojEmChL8mhR8v5hPKWlXuBvLqvMQnNXLIa3Z94ya5siEqPtlOn2tCrLQ4wnNTfejS845hOTDDMFlyFcX/6KlQ700Q0aW8wC87BKYaQqKx/FFCsCsoDA1QW6gUPafGqiaeIJXrOW45sCsI4+FsIicyQu/2eDgPX9PShXzgZzpGeAzwBWSg3GyC2iRXEcLSCxhfN0w4o3WrCm7LSeo0pIyRR869nQ1fBVqZtoNm/RTuxzHL6U8W1NLt3QLuvzbdvXocI36YCITTzU+j/wbmCXbEM/8LIv7D4zEC+iDH8rU42nGDVPezZFZs/FtTHREJPdeOoVO8q+1Anb6TjecErjfXaVU0Xnbq3gDVR7YM+abum0W7q3Yh8T2ivRHbAo+32cW1OPJe6AD832LsnZlC8F1RY/Fxf8kTi5uLgYircPt1ZKvE24RYfKulpYdNAroYhnhvlbRdpzC1OhyLjlzQ+th8OaQQ5FTQH2s55BeUNZl210FSMKRRL1WJor48taHgE4Ksh2s3AMfyrHxc++W3Bibh2YQ5MR1y6twQhdi5xOntJcRB6bHOphPLnY0iwFdNcISs0fAfAB6zkJ6ppOX5Uo6DQAt26x0fOM8VuZi5QmuFg5K/a6GDcThBREYEOq8JCci9StfnyV3VLD3/HE1wLSiy3tfoLdtEHJ+Vy1KK1gvfrEWL2iSHb9S8C9zEWKF1Zlh8jLPBR11HK5cBrX48PecdY5ZRvXlOv9JttgH5GS2FLpLMjWKBELY9SihMO/OWcu6hMF7Z0t5GZmImwmmFKsuCU41Y093RcwR9m3up/KPuBkmYEXheWfsaVoPyjacULG9+KI0h6A06fxrV5RArtZdAOOA1iVc6I6LFrBUOORzM6Xieq7Hp1PFwUO+/XHZqFEQZe4+Zdsfg5HlHSAt9XnCnhEscVVppzjDrWwXDQh2ViVr8RcM9BeQO+M2XEp36l0+l0Oog9R3xm9iBblCqcqha62RxxRPACaXlOdy3xf6VKLkuqOD/0su2B6EC5WEhaIuORypYDOGfPjrHyUvq7X0yha+ncyeg0tyg6AKaqAgUFcUdANgPjucp3L1KJsda+l1aaxG38qCSIGTVbEcYsUaW6MKsOtXSM/JlfdB8GTUhbbDAxrwI6+efY2miQtivwm3FI1ci7naohylH4lTx4L16pdq0Vp5C7qXzAXSRfx0PAU4zFZFmg0x5b223TpNuuOLnU33Q6HK3eufD+J9Uxq84NOhE/gFj72VQ6Jei0xmigtCmqn8FRmBBlUjscVBW2MZ9IqGRjB6ZViRXGIOgPupv03tWXOXWzWj0IrGBuB0xU0dbsMbYAMxvMT9DfZirCBfRDyYdf2Be+BGbpRPANEdz5gUXKS4QbjlTeSaYmCloWyEie+pr6MEqWopKSkaHkFvyiSuff4mGi4t1EUS7FRq2MFRv8Mfla5k7pQGcN9Zc/gAJhmshGdH1CV048UnbHnhwrgaZ0WZf8iNlUsSth/AJh+7tgjSFsUJL0wdNYJ/ATcVFk4Jcros2fPzmxcwi+Kj+70EtzgM17ICeeKI53kNoGbGjQD9VaGZ6qp/6oImCV5v0DiQ5NtqKEeW+5qx+HYUw0neaIcZvcjEwEWBfUGeB17O9H7M2mJQpO7dlYl9Zz7KP2qMsW3wl3sLc2FSzIWulBY7FBQDW+F0f1PcwGYEvcIlDMdoK+cN9gRyoeUHhupBvZb8GHzQdu1YzhVIzcbsV0PrCjyS/Bf+uiwnraLRxSK4M0AlUGsR13QD3UXe0su240xysDFBbhYqZou5Eby5aDK6GKnUM+sIzRjnpwdlDLBA7THA+YE6aJZ3Rvbi3pfd0IpU7CVwTf4uCX+Eacf/0beYyEGcmFEQWcVQHe1dM6nPfyiIHRb+T1xRZnsjg+Zb4m9M4Y3k+MSaujqahylqaEoSiRxoPkdFAOzR0XKCviVCelzRbMB/IDXIJ1a+MgyYD6FxwBMPuhUOJ5T/Yi0N14H1oIVZUEZ+FCH+9gsbt8Xd/R0C+BINGpRXmXy04l2Yu+MCTaGwXJcfop6StlDDEVREnMXNMrbNEUFU32NrrDRU/v4pPM0XTov0W6L+EMyI8FeiOdr8USa/KXEHIIVKQjlMx61KOfbciM/AWc2s9Tu+0LDLdkjqcJ7J0CqsKihoLEnxR12k0O0FWbVzobj8BQfpc6sQwu3KtG7wLKioGWgmIqWMtVsrigaW5tVQ6k+UbLGaHhbHuSbXDr10x5i7TPM/sSKDIFRG8JvHJ8sDtjS6nItZ5f0ALa9k9RM8TtfhAZlohcSKEVBzyBSasdkFlxRmnL7tPyhhnXpiHLjqoa3H3+V2N70FgEfgWWwSbcLiJ8nGvPA1sUDsy2VLBHwmPm1KedE5zKY6cAOA471TMCPr9WxUxpj449MbKfQ9AWYyvYyc0Wx4Q7914CypqMtSvNEK0ySTXmmeCI4cjq8x/HdqwDGsQwAz9O5Het/16TZx1eATekrKKabjvfeySxswI1QFid6GCf2EOuIBtjDPmeuKLBa3UgNUnyhrFVoiSJ3G2D5SaJJy6FE+J5HrYD7qI7arGAcf8Bp+nBjHdoHgmoM2rSHAYyjGeBidbAMRQLn/AQQXwWKTmQfv7wEDrGDRg4XmdcHYVHaqGx9aqOqi1VoiHJtsOcui+916tBTsUtoHwtNQhzHRI94G3z0LoHNtPcU9U+3Num96gXx+HiBmfaUsYGSgTssvBE+F5fgHI8zADvvrcPv23QF3t5XFjI2MAFgd8sQejrOeZurjVf3SqMrjb6bvK7gq1wmvjKZKh/6dJ+IafV4L/XdlArN282FvAYqjfe3cugWzxkflzaF69TB97DCkZ63GNUDpZ3oatLgqWQPXa0LW1cEebToSyRojMZAbjf7a/ou5WcoHiqCeFxSuBRn0ofHCZU48HT2Hcp3/l1pzFXXgIZtjh0PDb3AXHXGC0+agyovmkRm0YihlnedEJ53greyo5eFilUcX/DhuG+vduiSoVCuY2kPJu4AHl12cdkP/Uc8gRFsgNsKTkGfk7Ce9yr9yCX0ALxMohnGeCUSuiF5HQ9Jjs2a+XT3+2bs4dWmx4/0OsUs1eRf6a/s0kW9o/BLIW+juDd7CTznemPWjvtwY9RzcGP+rR5Vl8SZrEZWnX//T+lFxVbGW5Dnwzn5e9WLtyCFJWi26wCqEt1T6ZcVDrAHyCs6p2+i1tgqhagBepp5ZaoGt9yByW2dVFMQZkA1Qib8JI7UgUl0DlSOZULOKSaggkzl+ddf6MWXadnNwFPd6A6LgKf655gOuwt/iK5ZRHgpF3c5RVZdxo4xqvfgp/hhaBXPEJURHt70wj3n8o9gIRMSvGceJYWyBpJb3oj/wheD/c6jAe6ocyTZM/1xg4uhjfg7SFc+YD+8NE/AoqSEhrKvNzrZDGUeEj8/mbIZd0S1y7vMhjxMHI1SapTVnn3ZllsPUwdM+rk5QIm6J/f6fb1Rc0shVMhM7SMTNP1D7NmyPGV5Y7p431ISoKrXFz5yWSxglq82383Poou9iPibSsuTyjsOiUxiPX6XCl/oH6RaGUTPnLmu8h/Tm5fIFkOykPfvXrn2mx/ehJkK6rSocxiSvl18Q90r5R3e1pTM/+H3VBJR/2vyXJ2ZBnVIV60tmblGxI6+9Q/5M280zBFaK8tivwC97+1msBHS7xq2SHd+c5s/mBfXqcWjNadvmWNRV9q2Zw2zR+iZUXahsjv/iReErw+EIckaALYthEYW6ZuN9bNXxVIBCcprTuiO7kousxVU29iQIPM0d+XXCvR1fQfbiR7eql+8QY9czgRQLrX6c6aeiL298oTU/DP7Or7GEzxn+3We0LphzvGDFrtXneBwnM6tHADK2YDbemakFnjBbQFlp/caBfDumSO1XB+d1JTFZvWJHrvwIR+A3Sp9Fn8/evAtOGC833BiX7qriPygSi35gMm2jtoA05c74SLvLP7MYthlpD6T6fupK+6NM33aI4GhIzO7x+EL8MSjtpMKeaONgtAJvCdoMgt6++c7N7zLDHpW8c3HIYjBji1COgHQg4m2K/mWZMeMA7AJ4MfLXmvk+QH5mYhaEhLA9uDZNgOFL9VKucVXmP/paHSamJoXtnO23rBU2XOEGgP0RciXb6uMq14iNLERObRE0OG+ag3fDoD1mWjaxzyRJIPaCec3ngQIopinqmuFuYL9Q+QTbU1rCDQOl9XuaE8ozlxR+11FCLXk4BW12+8WQDr5aXnr48OZe2p7H2D1EevZQmDIDOB2fQ+p4F+IQbAoO/ZotEpq4JG1LCGw2F49BBpdwo/zzlnLFgImZwReEr5tkjpI8si0VWEEcyFJZeCu4VjyAm5z/ZdnxzEDe7L0+O6gxQwhqCkHfbviOY3cdBfG6DlJqEuG++vZVz2mw7jq25BuWWsIxmlLRKl/EFHqIUQUKxDllrzR0HkiiuWJurOlN94r4uB7WrCTUIkoFsf2+TA0Hm+v9dvT/ho0ZvcKIqJYnKT7CLU4YWjaNBHF4sQEI+/KXYamZhNRrMFu0N09kwMRxQrkhDLLeCM69NGEXUVKRLECgXmbkNwfofR5WrD74RBRrEA+RKBVHfSfJ6JYgTaVKLfGwMz70bDPcsYQGMbnhdzRu33pkgszbkJA1tfk99Mti/Te8HV6TwZmZKSmpv6ZQSZYEggEAoFAIBAIBAKBQCAQCAQCgUAgEAh1yf8Bl0RlMKavUoQAAAAASUVORK5CYII=)"
      ]
    },
    {
      "cell_type": "code",
      "metadata": {
        "id": "z8ls_ry1SIHD"
      },
      "source": [
        "def fonctionCout(y,X,W):\n",
        "  y_pred=perceptron(X,W)\n",
        "  n=len(y)\n",
        "  return (1/n)*np.sum((y_pred-y)**2)"
      ],
      "execution_count": 13,
      "outputs": []
    },
    {
      "cell_type": "code",
      "metadata": {
        "colab": {
          "base_uri": "https://localhost:8080/"
        },
        "id": "8ePUAJDvT7Ha",
        "outputId": "03e5dbde-0b13-47b5-db1b-dbda6a71bed4"
      },
      "source": [
        "fonctionCout(y,X,W)"
      ],
      "execution_count": 14,
      "outputs": [
        {
          "output_type": "execute_result",
          "data": {
            "text/plain": [
              "84.46592257588198"
            ]
          },
          "metadata": {},
          "execution_count": 14
        }
      ]
    },
    {
      "cell_type": "markdown",
      "metadata": {
        "id": "48JEDFf2V_P5"
      },
      "source": [
        "# Gradient descent: \n",
        "\n",
        "Used to optimize our cost function"
      ]
    },
    {
      "cell_type": "code",
      "metadata": {
        "id": "hRTvJzo1WDr7"
      },
      "source": [
        "def gradient(y,X,W):\n",
        "  \n",
        "  n= len(y)\n",
        "\n",
        "  term1= X.T\n",
        "  term2= perceptron(X,W)-y\n",
        "  return (2/n)*term1.dot(term2)"
      ],
      "execution_count": 15,
      "outputs": []
    },
    {
      "cell_type": "code",
      "metadata": {
        "id": "RMc36SfOYa4N"
      },
      "source": [
        "def descentGradient(y,X,W,learning_rate=0.1,nbr_iter=50000):\n",
        "  for i in range(nbr_iter):\n",
        "    W=W-learning_rate*gradient(y,X,W)\n",
        "  return W\n"
      ],
      "execution_count": 16,
      "outputs": []
    },
    {
      "cell_type": "code",
      "metadata": {
        "colab": {
          "base_uri": "https://localhost:8080/",
          "height": 282
        },
        "id": "Xc9mViIsZTN_",
        "outputId": "eaf3ebba-cdd3-4152-8293-44b4b1aae69e"
      },
      "source": [
        "# we calculate Y_pred and plot the results\n",
        "W_estim= descentGradient(y,X,W)\n",
        "\n",
        "y_pred=perceptron(X,W_estim)\n",
        "\n",
        "plt.scatter(x,y,c=\"b\", label=\"Nuage de points\")\n",
        "plt.plot(x,y_pred,c=\"r\", label= \"Droite de régression\")\n",
        "plt.legend()"
      ],
      "execution_count": 17,
      "outputs": [
        {
          "output_type": "execute_result",
          "data": {
            "text/plain": [
              "<matplotlib.legend.Legend at 0x7fdeb551aa50>"
            ]
          },
          "metadata": {},
          "execution_count": 17
        },
        {
          "output_type": "display_data",
          "data": {
            "text/plain": [
              "<Figure size 432x288 with 1 Axes>"
            ],
            "image/png": "[encoded data removed]"
          },
          "metadata": {
            "needs_background": "light"
          }
        }
      ]
    },
    {
      "cell_type": "markdown",
      "metadata": {
        "id": "PLks47FPbO48"
      },
      "source": [
        "#The learning curve:"
      ]
    },
    {
      "cell_type": "code",
      "metadata": {
        "id": "NZSAdC5ybSg2"
      },
      "source": [
        "def descentGradientCout(y,X,W,learning_rate=0.1, nbr_iter=1000):\n",
        "  loss = []\n",
        "  for i in range(nbr_iter):\n",
        "    W=W-learning_rate*gradient(y,X,W)\n",
        "    loss.append(fonctionCout(y,X,W))    \n",
        "  return W,loss"
      ],
      "execution_count": 18,
      "outputs": []
    },
    {
      "cell_type": "code",
      "metadata": {
        "colab": {
          "base_uri": "https://localhost:8080/",
          "height": 282
        },
        "id": "HQbSaSDmcf9w",
        "outputId": "ed54fc92-b023-4080-b51b-427783519bd9"
      },
      "source": [
        "#plotting the learning curve\n",
        "W_estim, loss=descentGradientCout(y,X,W, learning_rate=0.1, nbr_iter=1000)\n",
        "plt.plot(loss, c=\"r\")"
      ],
      "execution_count": 19,
      "outputs": [
        {
          "output_type": "execute_result",
          "data": {
            "text/plain": [
              "[<matplotlib.lines.Line2D at 0x7fdeb5497c50>]"
            ]
          },
          "metadata": {},
          "execution_count": 19
        },
        {
          "output_type": "display_data",
          "data": {
            "text/plain": [
              "<Figure size 432x288 with 1 Axes>"
            ],
            "image/png": "[encoded data removed]"
          },
          "metadata": {
            "needs_background": "light"
          }
        }
      ]
    }
  ]
}